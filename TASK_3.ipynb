{
 "cells": [
  {
   "cell_type": "code",
   "execution_count": 1,
   "id": "46c580d1-15af-4ff8-9e35-29fb6885bead",
   "metadata": {},
   "outputs": [
    {
     "name": "stdout",
     "output_type": "stream",
     "text": [
      "Password Strength Assessor\n"
     ]
    },
    {
     "name": "stdin",
     "output_type": "stream",
     "text": [
      "Enter a password to assess its strength:  SAID\n"
     ]
    },
    {
     "name": "stdout",
     "output_type": "stream",
     "text": [
      "Password strength: Weak\n",
      "\n",
      "Criteria check:\n",
      "- Length (8+ characters): Not met\n",
      "- Uppercase letters: Met\n",
      "- Lowercase letters: Not met\n",
      "- Numbers: Not met\n",
      "- Special characters: Not met\n"
     ]
    }
   ],
   "source": [
    "import re\n",
    "\n",
    "def assess_password_strength(password):\n",
    "    \"\"\"\n",
    "    Assess the strength of a password based on various criteria.\n",
    "    \n",
    "    Parameters:\n",
    "    password (str): The password to be assessed.\n",
    "    \n",
    "    Returns:\n",
    "    str: Feedback on the password's strength.\n",
    "    \"\"\"\n",
    "    # Criteria\n",
    "    length_criteria = len(password) >= 8\n",
    "    uppercase_criteria = bool(re.search(r'[A-Z]', password))\n",
    "    lowercase_criteria = bool(re.search(r'[a-z]', password))\n",
    "    number_criteria = bool(re.search(r'\\d', password))\n",
    "    special_char_criteria = bool(re.search(r'[\\W_]', password))\n",
    "    \n",
    "    # Strength counter\n",
    "    strength_points = sum([length_criteria, uppercase_criteria, lowercase_criteria, number_criteria, special_char_criteria])\n",
    "    \n",
    "    # Feedback based on the strength points\n",
    "    feedback = \"Password strength: \"\n",
    "    if strength_points == 5:\n",
    "        feedback += \"Very Strong\"\n",
    "    elif strength_points == 4:\n",
    "        feedback += \"Strong\"\n",
    "    elif strength_points == 3:\n",
    "        feedback += \"Moderate\"\n",
    "    else:\n",
    "        feedback += \"Weak\"\n",
    "    \n",
    "    # Detailed feedback\n",
    "    feedback += \"\\n\\nCriteria check:\"\n",
    "    feedback += f\"\\n- Length (8+ characters): {'Met' if length_criteria else 'Not met'}\"\n",
    "    feedback += f\"\\n- Uppercase letters: {'Met' if uppercase_criteria else 'Not met'}\"\n",
    "    feedback += f\"\\n- Lowercase letters: {'Met' if lowercase_criteria else 'Not met'}\"\n",
    "    feedback += f\"\\n- Numbers: {'Met' if number_criteria else 'Not met'}\"\n",
    "    feedback += f\"\\n- Special characters: {'Met' if special_char_criteria else 'Not met'}\"\n",
    "    \n",
    "    return feedback\n",
    "\n",
    "def main():\n",
    "    \"\"\"\n",
    "    Main function to handle user input and provide password strength feedback.\n",
    "    \"\"\"\n",
    "    print(\"Password Strength Assessor\")\n",
    "    password = input(\"Enter a password to assess its strength: \").strip()\n",
    "    feedback = assess_password_strength(password)\n",
    "    print(feedback)\n",
    "\n",
    "if __name__ == \"__main__\":\n",
    "    main()\n"
   ]
  },
  {
   "cell_type": "code",
   "execution_count": null,
   "id": "07a2ed4b-40c7-490f-a53d-c7a34f8553e8",
   "metadata": {},
   "outputs": [],
   "source": []
  }
 ],
 "metadata": {
  "kernelspec": {
   "display_name": "Python 3 (ipykernel)",
   "language": "python",
   "name": "python3"
  },
  "language_info": {
   "codemirror_mode": {
    "name": "ipython",
    "version": 3
   },
   "file_extension": ".py",
   "mimetype": "text/x-python",
   "name": "python",
   "nbconvert_exporter": "python",
   "pygments_lexer": "ipython3",
   "version": "3.11.7"
  }
 },
 "nbformat": 4,
 "nbformat_minor": 5
}
